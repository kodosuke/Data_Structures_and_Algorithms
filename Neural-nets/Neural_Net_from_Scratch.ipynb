{
  "nbformat": 4,
  "nbformat_minor": 0,
  "metadata": {
    "colab": {
      "name": "Neural Nets from Scratch.",
      "provenance": [],
      "authorship_tag": "ABX9TyN2l45r3kOkIl/ycaLkwJ7p",
      "include_colab_link": true
    },
    "kernelspec": {
      "name": "python3",
      "display_name": "Python 3"
    },
    "language_info": {
      "name": "python"
    }
  },
  "cells": [
    {
      "cell_type": "markdown",
      "metadata": {
        "id": "view-in-github",
        "colab_type": "text"
      },
      "source": [
        "<a href=\"https://colab.research.google.com/github/kodosuke/Data_Structures_and_Algorithms/blob/master/Neural-nets/Neural_Net_from_Scratch.ipynb\" target=\"_parent\"><img src=\"https://colab.research.google.com/assets/colab-badge.svg\" alt=\"Open In Colab\"/></a>"
      ]
    },
    {
      "cell_type": "markdown",
      "metadata": {
        "id": "myLjjAMf3NjM"
      },
      "source": [
        "# Implementation of a Neural Network from Scratch."
      ]
    },
    {
      "cell_type": "markdown",
      "metadata": {
        "id": "xik-6Or82pHC"
      },
      "source": [
        "## Concepts related to Neural networks."
      ]
    },
    {
      "cell_type": "markdown",
      "metadata": {
        "id": "imp4UwQy3MZU"
      },
      "source": [
        "1. Different Layers of a Neural networks.\n",
        "\n",
        "    *  Input Layer\n",
        "    *   Hidden Layer\n",
        "    *   Output Layer\n",
        "\n",
        "2. Forward Propagation\n",
        "3. Backward Propagation\n",
        "4. Updating weights and biases\n",
        "5. Activation functions\n",
        "\n"
      ]
    },
    {
      "cell_type": "markdown",
      "metadata": {
        "id": "uLI6PkhD4sfc"
      },
      "source": [
        "## Implementation"
      ]
    },
    {
      "cell_type": "code",
      "metadata": {
        "id": "Bof28yjh56LT"
      },
      "source": [
        ""
      ],
      "execution_count": null,
      "outputs": []
    }
  ]
}